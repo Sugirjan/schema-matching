{
 "cells": [
  {
   "cell_type": "code",
   "execution_count": 24,
   "metadata": {},
   "outputs": [],
   "source": [
    "import re\n",
    "import gensim"
   ]
  },
  {
   "cell_type": "code",
   "execution_count": 25,
   "metadata": {},
   "outputs": [],
   "source": [
    "model =  gensim.models.KeyedVectors.load_word2vec_format(\"GoogleNews-vectors-negative300.bin\",binary=True,limit=3000000)"
   ]
  },
  {
   "cell_type": "code",
   "execution_count": 26,
   "metadata": {},
   "outputs": [],
   "source": [
    "def findLeaves(tags):\n",
    "    leaves=[]\n",
    "    for i in tags:\n",
    "        leaves.append(i.split(\"/\")[-1])\n",
    "    return leaves"
   ]
  },
  {
   "cell_type": "code",
   "execution_count": 29,
   "metadata": {},
   "outputs": [],
   "source": [
    "def tokenizeWords(word):\n",
    "    array = []\n",
    "    array1 = []\n",
    "    if(\"_\" in word):\n",
    "        array = word.split(\"_\")\n",
    "    elif(\"-\" in word):\n",
    "        array = word.split(\"-\")\n",
    "    elif(True in map(lambda l: l.isupper(), word)):\n",
    "        array = re.sub('(?!^)([A-Z][a-z]+)', r' \\1', word).split()\n",
    "    else :\n",
    "        array.append(word)\n",
    "    for i in array:\n",
    "        array1.append(i.lower())\n",
    "    return (array1)"
   ]
  },
  {
   "cell_type": "code",
   "execution_count": null,
   "metadata": {},
   "outputs": [],
   "source": [
    "xml1_leaves = findLeaves() #put tags array as a param ['/Movies/Movie/Description', '/Movies/Movie/Genre'... ]\n",
    "xml2_leaves = findLeaves()\n",
    "\n",
    "for i in xml1_leaves:\n",
    "    scoreArray = []\n",
    "    array1 =  tokenizeWords(i)\n",
    "    for j in xml2_leaves:\n",
    "        array2 =  tokenizeWords(j)\n",
    "        scoreSum  = 0\n",
    "        for k in array1 :\n",
    "            maxScore = (0)\n",
    "            for l in array2:\n",
    "                score = (model.wv.similarity(w1 = k, w2= l))\n",
    "                if(maxScore < score):\n",
    "                    maxScore = score\n",
    "            scoreSum += maxScore\n",
    "        avgScore = scoreSum/max(len(array1),len(array2))\n",
    "        avgRoundScore = round(avgScore,2)\n",
    "        scoreArray.append(avgRoundScore)\n",
    "    print(scoreArray)"
   ]
  },
  {
   "cell_type": "code",
   "execution_count": null,
   "metadata": {},
   "outputs": [],
   "source": []
  }
 ],
 "metadata": {
  "kernelspec": {
   "display_name": "Python 3",
   "language": "python",
   "name": "python3"
  },
  "language_info": {
   "codemirror_mode": {
    "name": "ipython",
    "version": 3
   },
   "file_extension": ".py",
   "mimetype": "text/x-python",
   "name": "python",
   "nbconvert_exporter": "python",
   "pygments_lexer": "ipython3",
   "version": "3.6.4"
  }
 },
 "nbformat": 4,
 "nbformat_minor": 2
}
